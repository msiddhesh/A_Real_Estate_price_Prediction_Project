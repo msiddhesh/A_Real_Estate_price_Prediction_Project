{
  "cells": [
    {
      "cell_type": "code",
      "execution_count": 1,
      "metadata": {
        "id": "bdf5274f-c0a6-4ee5-9780-c763c05b8047"
      },
      "outputs": [],
      "source": [
        "import random\n",
        "import time\n",
        "import numpy as np\n",
        "import sys"
      ],
      "id": "bdf5274f-c0a6-4ee5-9780-c763c05b8047"
    },
    {
      "cell_type": "code",
      "execution_count": 6,
      "metadata": {
        "id": "29aba496-e96c-41ab-9474-da699a23a22f"
      },
      "outputs": [],
      "source": [
        "K= 100\n",
        "N = 5000\n",
        "M = 5"
      ],
      "id": "29aba496-e96c-41ab-9474-da699a23a22f"
    },
    {
      "cell_type": "markdown",
      "metadata": {
        "id": "ItImvX-1PClu"
      },
      "source": [
        "### Making list for Question 1 and Question 2."
      ],
      "id": "ItImvX-1PClu"
    },
    {
      "cell_type": "code",
      "execution_count": null,
      "metadata": {
        "id": "ff93d05c-a59d-4fdb-a42f-a2056d4f12a6"
      },
      "outputs": [],
      "source": [
        "random.seed(21)\n",
        "list_dict = {}\n",
        "for i in range(M):\n",
        "    list_dict[i] = {}\n",
        "for i in range(M):\n",
        "    for j in range(K):\n",
        "        list_dict[i][j] = [random.randrange(N) for i in range(N)]"
      ],
      "id": "ff93d05c-a59d-4fdb-a42f-a2056d4f12a6"
    },
    {
      "cell_type": "code",
      "execution_count": null,
      "metadata": {
        "id": "6095db37-b99e-4afe-9f94-7b7d232f5d01"
      },
      "outputs": [],
      "source": [
        "#Q1\n",
        "def Selectionsort(l):\n",
        "    if len(l)<=1:\n",
        "        return(l)\n",
        "    for i in range(len(l)):\n",
        "        pos=i\n",
        "        for p in range(i+1,len(l)):\n",
        "            if l[pos]<l[p]:\n",
        "                pos = p\n",
        "        l[i],l[pos] = l[pos],l[i]\n",
        "    return(l)"
      ],
      "id": "6095db37-b99e-4afe-9f94-7b7d232f5d01"
    },
    {
      "cell_type": "code",
      "execution_count": 10,
      "metadata": {
        "id": "317a1843-f502-44c3-8cdd-b97a248be747"
      },
      "outputs": [],
      "source": [
        "#Q2\n",
        "def Insertionsort(l):\n",
        "    if len(l)<=1:\n",
        "        return(l)\n",
        "    for i in range(len(l)):\n",
        "        j=i\n",
        "        while j>0 and l[j] < l[j-1] :\n",
        "            l[j],l[j-1] = l[j-1],l[j]\n",
        "            j-=1\n",
        "    return(l)"
      ],
      "id": "317a1843-f502-44c3-8cdd-b97a248be747"
    },
    {
      "cell_type": "code",
      "execution_count": null,
      "metadata": {
        "id": "IXJcq8u9wbU_"
      },
      "outputs": [],
      "source": [
        "#Q3\n",
        "def merge(A , B):\n",
        "    i,j =  0,0\n",
        "\n",
        "    sorted_list = []\n",
        "    while len(sorted_list) < len(A)+len(B):\n",
        "        if i==len(A):\n",
        "            sorted_list.extend(B[j:])\n",
        "            return(sorted_list)\n",
        "        elif j==len(B):\n",
        "            sorted_list.extend(A[i:])\n",
        "            return(sorted_list)\n",
        "        elif A[i]<B[j]:\n",
        "            sorted_list.append(A[i])\n",
        "            i+=1\n",
        "        else:\n",
        "            sorted_list.append(B[j])\n",
        "            j+=1\n",
        "    return(sorted_list)\n",
        "\n",
        "def mergesort(l,cutoff = 0):\n",
        "    n= len(l)\n",
        "    if n<=1:\n",
        "        return(l)\n",
        "    if n < cutoff:\n",
        "        return(Insertionsort(l))\n",
        "    return(merge(mergesort(l[:n//2],cutoff),mergesort(l[n//2:],cutoff)))"
      ],
      "id": "IXJcq8u9wbU_"
    },
    {
      "cell_type": "code",
      "execution_count": 9,
      "metadata": {
        "id": "Vm8_3-JHar24"
      },
      "outputs": [],
      "source": [
        "#Q4\n",
        "def quicksort(L,l,r,cutoff = 0):\n",
        "    if (r-l) <cutoff:\n",
        "        L[l:r] =  Insertionsort(L[l:r])\n",
        "        return(L)\n",
        "    if r-l <=1 :\n",
        "        return(L)\n",
        "\n",
        "    rand_pivot =  random.randrange(l,r-1)\n",
        "    L[rand_pivot],L[l] = L[l],L[rand_pivot]\n",
        "    (pivot,lower,upper) = (L[l],l+1,l+1)\n",
        "    for i in range(l+1,r):\n",
        "        if L[i] > pivot:\n",
        "            upper = upper+1\n",
        "        else:\n",
        "            (L[i], L[lower]) = (L[lower], L[i])\n",
        "\n",
        "            (lower,upper) = (lower+1,upper+1)\n",
        "\n",
        "    (L[l],L[lower-1]) = (L[lower-1],L[l])\n",
        "    lower = lower-1\n",
        "\n",
        "    quicksort(L,l,lower,cutoff)\n",
        "    quicksort(L,lower+1,upper,cutoff)\n",
        "    return(L)\n"
      ],
      "id": "Vm8_3-JHar24"
    },
    {
      "cell_type": "markdown",
      "metadata": {
        "id": "apW1iH9pnHUi"
      },
      "source": [
        "## Q1 mean and standard deviation for Selection sort.  \n",
        "\n",
        "---\n",
        "\n",
        "\n",
        "for K= 100\n",
        "N = 5000\n",
        "M = 5"
      ],
      "id": "apW1iH9pnHUi"
    },
    {
      "cell_type": "code",
      "execution_count": null,
      "metadata": {
        "colab": {
          "background_save": true
        },
        "id": "urOVPyPcuPrH"
      },
      "outputs": [],
      "source": [
        "random.seed(21)\n",
        "list_dict_1= {}\n",
        "mean_sd_selection = []\n",
        "for i in range(M):\n",
        "    list_dict_1[i] = {}\n",
        "    time_slection = np.array([])\n",
        "    for j in range(K):\n",
        "        list_dict_1[i][j] = [random.randrange(N) for i in range(N)]\n",
        "        start= time.perf_counter()\n",
        "        Selectionsort(list_dict_1[i][j])\n",
        "        time_slection = np.append(time_slection,time.perf_counter()-start)\n",
        "    mean_sd_selection.append((time_slection.mean(),time_slection.std()))"
      ],
      "id": "urOVPyPcuPrH"
    },
    {
      "cell_type": "code",
      "execution_count": null,
      "metadata": {
        "colab": {
          "background_save": true,
          "base_uri": "https://localhost:8080/"
        },
        "id": "Vlh5Eh0dyqFs",
        "outputId": "8ccbae49-4928-4a81-c944-faa7fc267a03"
      },
      "outputs": [
        {
          "data": {
            "text/plain": [
              "[(1.1977816753299795, 0.3163260228673921),\n",
              " (1.1962977338699785, 0.32001701947997385),\n",
              " (1.1980457314399973, 0.32161596517435587),\n",
              " (1.1828439337200325, 0.306030723698261),\n",
              " (1.197008631230019, 0.3217853165048979)]"
            ]
          },
          "execution_count": 32,
          "metadata": {},
          "output_type": "execute_result"
        }
      ],
      "source": [
        "mean_sd_selection"
      ],
      "id": "Vlh5Eh0dyqFs"
    },
    {
      "cell_type": "code",
      "execution_count": null,
      "metadata": {
        "colab": {
          "background_save": true
        },
        "id": "c30MN36pyqcS"
      },
      "outputs": [],
      "source": [
        "random.seed(21)\n",
        "list_dict_2= {}\n",
        "mean_sd_insert = []\n",
        "for i in range(M):\n",
        "    list_dict_2[i] = {}\n",
        "    time_insert = np.array([])\n",
        "    for j in range(K):\n",
        "        list_dict_2[i][j] = [random.randrange(N) for i in range(N)]\n",
        "        start= time.perf_counter()\n",
        "        garbage = Insertionsort(list_dict_2[i][j])\n",
        "        time_insert = np.append(time_insert,time.perf_counter()-start)\n",
        "    mean_sd_insert.append((time_insert.mean(),time_insert.std()))"
      ],
      "id": "c30MN36pyqcS"
    },
    {
      "cell_type": "code",
      "execution_count": null,
      "metadata": {
        "colab": {
          "background_save": true,
          "base_uri": "https://localhost:8080/"
        },
        "id": "X5S-1-5uyrd-",
        "outputId": "f72d0304-1745-41f8-fc66-000e645a2090"
      },
      "outputs": [
        {
          "data": {
            "text/plain": [
              "[(2.12714083762, 0.4824549280085613),\n",
              " (2.1133918181399984, 0.4674575553005237),\n",
              " (2.128085525740007, 0.5202195131403382),\n",
              " (2.113489675359988, 0.4861217948551356),\n",
              " (2.1285289948400443, 0.4830102697080599)]"
            ]
          },
          "execution_count": 34,
          "metadata": {},
          "output_type": "execute_result"
        }
      ],
      "source": [
        "mean_sd_insert"
      ],
      "id": "X5S-1-5uyrd-"
    },
    {
      "cell_type": "code",
      "execution_count": null,
      "metadata": {
        "colab": {
          "background_save": true
        },
        "id": "oKpKW4lMysQC"
      },
      "outputs": [],
      "source": [],
      "id": "oKpKW4lMysQC"
    },
    {
      "cell_type": "markdown",
      "metadata": {
        "id": "PB5gG493q6Gr"
      },
      "source": [
        "Make list for questions 3 and 4\n",
        "---\n",
        "K = 100\n",
        "N = 50000\n",
        "M = 5"
      ],
      "id": "PB5gG493q6Gr"
    },
    {
      "cell_type": "code",
      "execution_count": 7,
      "metadata": {
        "id": "gNX5c9nXYEyi"
      },
      "outputs": [],
      "source": [
        "K1= 100\n",
        "N1 = 50000\n",
        "M1 = 5\n",
        "cutoffs = [0,5,10,20,30,40,50,60,70,80,90,100]"
      ],
      "id": "gNX5c9nXYEyi"
    },
    {
      "cell_type": "code",
      "execution_count": 8,
      "metadata": {
        "id": "Q7PAHoXyc9fv"
      },
      "outputs": [],
      "source": [
        "random.seed(7)\n",
        "list_dict_Q3_4 = {}\n",
        "for i in range(M1):\n",
        "    list_dict_Q3_4[i] = {}\n",
        "for i in range(M1):\n",
        "    for j in range(K1):\n",
        "        list_dict_Q3_4[i][j] = [random.randrange(N) for i in range(N1)]"
      ],
      "id": "Q7PAHoXyc9fv"
    },
    {
      "cell_type": "markdown",
      "metadata": {
        "id": "NnPwC1B8rE0N"
      },
      "source": [
        "Find mean and standrd deviation for Merge and Quick sort with diff cutoffs\n",
        "---\n",
        "cutoffs = [ 0, 5, 10, 20, 30, 40, 50, 60, 70, 80, 90, 100]"
      ],
      "id": "NnPwC1B8rE0N"
    },
    {
      "cell_type": "code",
      "execution_count": null,
      "metadata": {
        "colab": {
          "background_save": true
        },
        "id": "0t5PFesodrbR"
      },
      "outputs": [],
      "source": [
        "#Q3\n",
        "mylists =list_dict_Q3_4.copy()\n",
        "mean_sd_merge = {}\n",
        "for c in cutoffs:\n",
        "    mean_sd_merge_list = []\n",
        "    for i in range(M1):\n",
        "        time_merge = np.array([])\n",
        "        for j in range(K1):\n",
        "          start= time.perf_counter()\n",
        "          mergesort(mylists[i][j],c)\n",
        "          time_merge = np.append(time_merge,time.perf_counter()-start)\n",
        "        mean_sd_merge_list.append((time_merge.mean(),time_merge.std()))\n",
        "    mean_sd_merge[c] = mean_sd_merge_list"
      ],
      "id": "0t5PFesodrbR"
    },
    {
      "cell_type": "code",
      "execution_count": null,
      "metadata": {
        "colab": {
          "background_save": true
        },
        "id": "pazJ2ob0iHQg",
        "outputId": "b5e44557-1e38-4c4b-baf4-102e8e36e7f0"
      },
      "outputs": [
        {
          "name": "stdout",
          "output_type": "stream",
          "text": [
            "Cutoff : its means and std with Hybrid mergesort\n"
          ]
        },
        {
          "data": {
            "text/plain": [
              "{0: [(0.43871860444003685, 0.1712950152230883),\n",
              "  (0.4288492928799678, 0.13271402560769097),\n",
              "  (0.4141049048999594, 0.11785855634836574),\n",
              "  (0.42002348281007473, 0.12317269610852898),\n",
              "  (0.42235575960999083, 0.12959149833656744)],\n",
              " 5: [(0.3943220349599778, 0.13045582450768103),\n",
              "  (0.3812355469000158, 0.10995506538947923),\n",
              "  (0.38013098749992424, 0.11189792879750023),\n",
              "  (0.37950602445000187, 0.11135597966001926),\n",
              "  (0.3795009183799812, 0.11148042742167762)],\n",
              " 10: [(0.3531584580099752, 0.09185194495094326),\n",
              "  (0.3796145510500264, 0.12417024105515936),\n",
              "  (0.3662397464100377, 0.1074004710449445),\n",
              "  (0.36574379421999764, 0.10967684725078897),\n",
              "  (0.36582681158002744, 0.10801674097331912)],\n",
              " 20: [(0.3623485539900139, 0.10971934841862559),\n",
              "  (0.37418712343000154, 0.11933335425942679),\n",
              "  (0.3528831487099978, 0.09545374759452005),\n",
              "  (0.36238877062002756, 0.10905250597117518),\n",
              "  (0.36363235179001097, 0.10810395164062353)],\n",
              " 30: [(0.38255432354008007, 0.11141418352109866),\n",
              "  (0.38165140223998606, 0.11319517360166134),\n",
              "  (0.3960890729798666, 0.12705884374168627),\n",
              "  (0.38422233487990526, 0.11151123390620966),\n",
              "  (0.38515075432986123, 0.1099010248499129)],\n",
              " 40: [(0.38551928123994, 0.11313568227485907),\n",
              "  (0.3834829438201814, 0.11165924820094265),\n",
              "  (0.39756900150003277, 0.1239932077190119),\n",
              "  (0.380399838729827, 0.11295339328390129),\n",
              "  (0.38149327600987815, 0.11173300492613335)],\n",
              " 50: [(0.45470446508003076, 0.13673632298610214),\n",
              "  (0.4398679283500496, 0.1204389602865827),\n",
              "  (0.46933121488002144, 0.1522749837159291),\n",
              "  (0.43967017926004703, 0.12071419238436917),\n",
              "  (0.4527457349400356, 0.13769285616845534)],\n",
              " 60: [(0.43946968547023063, 0.12038343671913065),\n",
              "  (0.4680698725798356, 0.1513789412865841),\n",
              "  (0.4389073329200619, 0.1208951233335359),\n",
              "  (0.45368729236990474, 0.13634847536415054),\n",
              "  (0.44076212167998163, 0.12213284768329473)],\n",
              " 70: [(0.4691415981100181, 0.16312419556272445),\n",
              "  (0.4395366877599918, 0.1210080547202628),\n",
              "  (0.4542792062299486, 0.13663314067875165),\n",
              "  (0.43931248144002893, 0.12049570987344509),\n",
              "  (0.46852708997001175, 0.1482942854116012)],\n",
              " 80: [(0.4417080387798705, 0.12256599409221643),\n",
              "  (0.45181585986987555, 0.13382975993764015),\n",
              "  (0.4414293730598729, 0.12153540061770644),\n",
              "  (0.46838201213009595, 0.1486341971445446),\n",
              "  (0.45359377411010426, 0.13714440399772912)],\n",
              " 90: [(0.4397370910700556, 0.12171624282070534),\n",
              "  (0.4548144952698931, 0.1359981210176645),\n",
              "  (0.4541009816898259, 0.1371457273850262),\n",
              "  (0.45367202156010533, 0.1370031119984785),\n",
              "  (0.4391134355200484, 0.12184496305456427)],\n",
              " 100: [(0.6037069430399606, 0.17416844963920397),\n",
              "  (0.6165128963500865, 0.20175246794420582),\n",
              "  (0.591343898800078, 0.16135167327673683),\n",
              "  (0.6041187638898918, 0.1745298770728767),\n",
              "  (0.6168141850299252, 0.19635732735277203)]}"
            ]
          },
          "execution_count": 38,
          "metadata": {},
          "output_type": "execute_result"
        }
      ],
      "source": [
        "print(\"Cutoff : its means and std with Hybrid mergesort\")\n",
        "mean_sd_merge"
      ],
      "id": "pazJ2ob0iHQg"
    },
    {
      "cell_type": "code",
      "execution_count": 11,
      "metadata": {
        "id": "cC_p5zJlhkQ2"
      },
      "outputs": [],
      "source": [
        "#Q4\n",
        "mylists =list_dict_Q3_4.copy()\n",
        "mean_sd_insert = {}\n",
        "for c in cutoffs:\n",
        "    mean_sd_insert_list = []\n",
        "    for i in range(M1):\n",
        "        time_quick = np.array([])\n",
        "        for j in range(K1):\n",
        "          start= time.perf_counter()\n",
        "          quicksort(mylists[i][j],0,len(mylists[i][j]),c)\n",
        "          time_quick = np.append(time_quick,time.perf_counter()-start)\n",
        "        mean_sd_insert_list.append((time_quick.mean(),time_quick.std()))\n",
        "    mean_sd_insert[c] = mean_sd_insert_list"
      ],
      "id": "cC_p5zJlhkQ2"
    },
    {
      "cell_type": "code",
      "execution_count": 12,
      "metadata": {
        "colab": {
          "base_uri": "https://localhost:8080/"
        },
        "id": "L_0ZazS3iXUW",
        "outputId": "0e598183-4896-46d8-c189-d54a934ae47a"
      },
      "outputs": [
        {
          "output_type": "stream",
          "name": "stdout",
          "text": [
            "Cutoff : its means and std with Hybrid Quick Sort\n"
          ]
        },
        {
          "output_type": "execute_result",
          "data": {
            "text/plain": [
              "{0: [(0.33872044867999934, 0.10753785411075464),\n",
              "  (0.32293424888999994, 0.09148671687408738),\n",
              "  (0.3365698001299984, 0.10637485576698719),\n",
              "  (0.3365330836400011, 0.10660016532534625),\n",
              "  (0.3219944626499961, 0.09392192847550389)],\n",
              " 5: [(0.3201477360500013, 0.10155919731552375),\n",
              "  (0.303514461379998, 0.08420709282917781),\n",
              "  (0.3102250241999957, 0.09126547363441707),\n",
              "  (0.30899834674999627, 0.09722633468755906),\n",
              "  (0.3017526782699963, 0.08716176564930078)],\n",
              " 10: [(0.24138042432001044, 0.07781402079849518),\n",
              "  (0.24478841244999217, 0.07767372987507197),\n",
              "  (0.24304379738000192, 0.07494824185658329),\n",
              "  (0.24428273568000122, 0.0757201737503981),\n",
              "  (0.24283713136999607, 0.0744123362055913)],\n",
              " 20: [(0.19326836267999967, 0.05113513572271954),\n",
              "  (0.20855627262999973, 0.06956927891076094),\n",
              "  (0.2083833172200002, 0.06972590504300116),\n",
              "  (0.19294916936000506, 0.052703781218425394),\n",
              "  (0.2068122383599939, 0.06777621263946738)],\n",
              " 30: [(0.18024236932000462, 0.04985473539728316),\n",
              "  (0.19670663950999823, 0.06602568101830082),\n",
              "  (0.18644734810000954, 0.05036651723869369),\n",
              "  (0.19772886093000352, 0.06721926429166013),\n",
              "  (0.18132603704999498, 0.05156132716928152)],\n",
              " 40: [(0.18932291398000756, 0.06525858979978595),\n",
              "  (0.17397411558000614, 0.04795405127574047),\n",
              "  (0.17579459640000436, 0.04843956320216234),\n",
              "  (0.18985455125999806, 0.06462150820685438),\n",
              "  (0.17594762812000225, 0.05077343028628934)],\n",
              " 50: [(0.1841140284000039, 0.06271711708322031),\n",
              "  (0.170881398279995, 0.0486757759768931),\n",
              "  (0.17477182779000486, 0.05149491117374385),\n",
              "  (0.18226403963998564, 0.06140744200005178),\n",
              "  (0.17093615104999343, 0.04549694306822976)],\n",
              " 60: [(0.18109263892999933, 0.060196826628287604),\n",
              "  (0.165084943080019, 0.04555439640084887),\n",
              "  (0.16568239096000753, 0.04484070673095866),\n",
              "  (0.18611143356999718, 0.06214583658567913),\n",
              "  (0.17075438872999485, 0.04859939382467786)],\n",
              " 70: [(0.16906062985000972, 0.04969726822678134),\n",
              "  (0.1797591211899771, 0.06431845490890728),\n",
              "  (0.1677017063499875, 0.0475894641774089),\n",
              "  (0.1676710901599904, 0.04742480686466292),\n",
              "  (0.1774287757999923, 0.06521170907306979)],\n",
              " 80: [(0.16081428088999472, 0.048559658108234816),\n",
              "  (0.160013189900003, 0.04587712983370667),\n",
              "  (0.17477704173000802, 0.0595309011601168),\n",
              "  (0.1620590567399995, 0.04782986601132985),\n",
              "  (0.16283872013999143, 0.047281892734097594)],\n",
              " 90: [(0.17507346281002129, 0.062026145223742286),\n",
              "  (0.16082371827000316, 0.0477313962337322),\n",
              "  (0.1616986388500163, 0.0443113536320856),\n",
              "  (0.1673585512099885, 0.055090566840519925),\n",
              "  (0.16791263632999062, 0.055513398060738586)],\n",
              " 100: [(0.1558773628799986, 0.04408577671572224),\n",
              "  (0.15494562216999838, 0.0433200240394531),\n",
              "  (0.1710272128199904, 0.059431729982573664),\n",
              "  (0.1593412935800029, 0.045336621780329406),\n",
              "  (0.15912440921999405, 0.04559289163647287)]}"
            ]
          },
          "metadata": {},
          "execution_count": 12
        }
      ],
      "source": [
        "print(\"Cutoff : its means and std with Hybrid Quick Sort\")\n",
        "mean_sd_insert"
      ],
      "id": "L_0ZazS3iXUW"
    },
    {
      "cell_type": "code",
      "execution_count": null,
      "metadata": {
        "colab": {
          "background_save": true
        },
        "id": "Z0G1QK7biYsR"
      },
      "outputs": [],
      "source": [],
      "id": "Z0G1QK7biYsR"
    },
    {
      "cell_type": "markdown",
      "metadata": {
        "id": "ecRdZfcirww6"
      },
      "source": [
        "# Finding optimal Cutoff for Hybrid Merge Sort"
      ],
      "id": "ecRdZfcirww6"
    },
    {
      "cell_type": "code",
      "execution_count": null,
      "metadata": {
        "colab": {
          "background_save": true
        },
        "id": "xEkTnKnVr-VM"
      },
      "outputs": [],
      "source": [
        "cutoff_mean_time_merge = {}\n",
        "for c in cutoffs:\n",
        "  for i in range(M1):\n",
        "    cutoff_mean_time_merge[c]=0\n",
        "    cutoff_mean_time_merge[c] += mean_sd_merge[c][i][0]\n",
        "  cutoff_mean_time_merge[c] = cutoff_mean_time_merge[c] / M1\n"
      ],
      "id": "xEkTnKnVr-VM"
    },
    {
      "cell_type": "code",
      "execution_count": null,
      "metadata": {
        "colab": {
          "background_save": true
        },
        "id": "0mFfWVBXw9uf",
        "outputId": "1bd79d5b-ff64-424a-d2c9-729347b80e23"
      },
      "outputs": [
        {
          "data": {
            "text/plain": [
              "{0: 0.08447115192199817,\n",
              " 5: 0.07590018367599624,\n",
              " 10: 0.07316536231600548,\n",
              " 20: 0.0727264703580022,\n",
              " 30: 0.07703015086597224,\n",
              " 40: 0.07629865520197562,\n",
              " 50: 0.09054914698800712,\n",
              " 60: 0.08815242433599632,\n",
              " 70: 0.09370541799400235,\n",
              " 80: 0.09071875482202085,\n",
              " 90: 0.08782268710400967,\n",
              " 100: 0.12336283700598505}"
            ]
          },
          "execution_count": 42,
          "metadata": {},
          "output_type": "execute_result"
        }
      ],
      "source": [
        "cutoff_mean_time_merge"
      ],
      "id": "0mFfWVBXw9uf"
    },
    {
      "cell_type": "code",
      "execution_count": null,
      "metadata": {
        "colab": {
          "background_save": true
        },
        "id": "jnl9znxfx3IH",
        "outputId": "133475be-9957-4207-b209-b6c774f1a488"
      },
      "outputs": [
        {
          "name": "stdout",
          "output_type": "stream",
          "text": [
            "Optimal Cutoff for Hyrbrid Merge sort is : 20 Time taken is : 0.0727264703580022\n"
          ]
        }
      ],
      "source": [
        "temp = 10000000\n",
        "for c in cutoffs:\n",
        "  if cutoff_mean_time_merge[c]<temp:\n",
        "    optiomal_cutoff_for_merge = c\n",
        "    temp = cutoff_mean_time_merge[c]\n",
        "print(\"Optimal Cutoff for Hyrbrid Merge sort is :\",optiomal_cutoff_for_merge,\"Time taken is :\",temp)"
      ],
      "id": "jnl9znxfx3IH"
    },
    {
      "cell_type": "markdown",
      "metadata": {
        "id": "Z8dEDnWLxrHF"
      },
      "source": [
        "# Finding optimal Cutoff for Hybrid *Quick* Sort"
      ],
      "id": "Z8dEDnWLxrHF"
    },
    {
      "cell_type": "code",
      "execution_count": 13,
      "metadata": {
        "id": "oyYA8oZrxqPl"
      },
      "outputs": [],
      "source": [
        "cutoff_mean_time_quick = {}\n",
        "for c in cutoffs:\n",
        "  for i in range(M1):\n",
        "    cutoff_mean_time_quick[c]=0\n",
        "    cutoff_mean_time_quick[c] += mean_sd_insert[c][i][0]\n",
        "  cutoff_mean_time_quick[c] = cutoff_mean_time_quick[c] / M1\n"
      ],
      "id": "oyYA8oZrxqPl"
    },
    {
      "cell_type": "code",
      "execution_count": 14,
      "metadata": {
        "colab": {
          "base_uri": "https://localhost:8080/"
        },
        "id": "xeZRUvjrxkUf",
        "outputId": "1c28d85f-f639-4418-ffc9-53d98bcb7308"
      },
      "outputs": [
        {
          "output_type": "execute_result",
          "data": {
            "text/plain": [
              "{0: 0.06439889252999922,\n",
              " 5: 0.06035053565399926,\n",
              " 10: 0.048567426273999216,\n",
              " 20: 0.04136244767199878,\n",
              " 30: 0.036265207409998994,\n",
              " 40: 0.03518952562400045,\n",
              " 50: 0.034187230209998684,\n",
              " 60: 0.03415087774599897,\n",
              " 70: 0.03548575515999846,\n",
              " 80: 0.03256774402799829,\n",
              " 90: 0.03358252726599813,\n",
              " 100: 0.03182488184399881}"
            ]
          },
          "metadata": {},
          "execution_count": 14
        }
      ],
      "source": [
        "cutoff_mean_time_quick"
      ],
      "id": "xeZRUvjrxkUf"
    },
    {
      "cell_type": "code",
      "execution_count": 15,
      "metadata": {
        "colab": {
          "base_uri": "https://localhost:8080/"
        },
        "id": "5YhhGLU5y5gP",
        "outputId": "6ef96381-9a3f-469a-9ab2-0fe556b696ec"
      },
      "outputs": [
        {
          "output_type": "stream",
          "name": "stdout",
          "text": [
            "Optimal Cutoff for Hyrbrid Merge sort is  100 Time taken is : 0.03182488184399881\n"
          ]
        }
      ],
      "source": [
        "temp = 10000000\n",
        "for c in cutoffs:\n",
        "  if cutoff_mean_time_quick[c]<temp:\n",
        "    optiomal_cutoff_for_quick = c\n",
        "    temp = cutoff_mean_time_quick[c]\n",
        "print(\"Optimal Cutoff for Hyrbrid Merge sort is \",optiomal_cutoff_for_quick,\"Time taken is :\",temp)"
      ],
      "id": "5YhhGLU5y5gP"
    },
    {
      "cell_type": "code",
      "execution_count": null,
      "metadata": {
        "colab": {
          "background_save": true
        },
        "id": "TGh4KrenzC8Z"
      },
      "outputs": [],
      "source": [],
      "id": "TGh4KrenzC8Z"
    }
  ],
  "metadata": {
    "colab": {
      "provenance": []
    },
    "kernelspec": {
      "display_name": "Python 3 (ipykernel)",
      "language": "python",
      "name": "python3"
    },
    "language_info": {
      "codemirror_mode": {
        "name": "ipython",
        "version": 3
      },
      "file_extension": ".py",
      "mimetype": "text/x-python",
      "name": "python",
      "nbconvert_exporter": "python",
      "pygments_lexer": "ipython3",
      "version": "3.10.12"
    }
  },
  "nbformat": 4,
  "nbformat_minor": 5
}